{
 "cells": [
  {
   "cell_type": "markdown",
   "metadata": {},
   "source": [
    "# Import Package"
   ]
  },
  {
   "cell_type": "code",
   "execution_count": 12,
   "metadata": {},
   "outputs": [],
   "source": [
    "# Import packages\n",
    "import os\n",
    "import cv2\n",
    "import numpy as np\n",
    "import tensorflow as tf\n",
    "import sys\n",
    "\n",
    "# This is needed since the notebook is stored in the object_detection folder.\n",
    "sys.path.append(\"..\")\n",
    "\n",
    "from IPython.display import clear_output\n",
    "\n",
    "# Import utilites\n",
    "from utils import label_map_util\n",
    "from utils import visualization_utils as vis_util"
   ]
  },
  {
   "cell_type": "code",
   "execution_count": 13,
   "metadata": {},
   "outputs": [],
   "source": [
    "# Name of the directory containing the object detection module we're using\n",
    "#MODEL_NAME = 'inference_graph'\n",
    "#MODEL_NAME = 'faster_rcnn_inception_v2_coco_2018_01_28'\n",
    "MODEL_NAME = 'ssd_mobilenet_v2_coco_2018_03_29'\n",
    "\n",
    "# Grab path to current working directory\n",
    "CWD_PATH = os.getcwd()\n",
    "\n",
    "# Path to frozen detection graph .pb file, which contains the model that is used\n",
    "# for object detection.\n",
    "PATH_TO_CKPT = os.path.join(CWD_PATH,MODEL_NAME,'frozen_inference_graph.pb')\n",
    "\n",
    "# Path to label map file\n",
    "PATH_TO_LABELS = os.path.join(CWD_PATH,'mscoco_label_map.pbtxt')\n",
    "\n",
    "# Number of classes the object detector can identify\n",
    "NUM_CLASSES = 90"
   ]
  },
  {
   "cell_type": "code",
   "execution_count": 14,
   "metadata": {},
   "outputs": [],
   "source": [
    "## Load the label map.\n",
    "# Label maps map indices to category names, so that when our convolution\n",
    "# network predicts `5`, we know that this corresponds to `king`.\n",
    "# Here we use internal utility functions, but anything that returns a\n",
    "# dictionary mapping integers to appropriate string labels would be fine\n",
    "label_map = label_map_util.load_labelmap(PATH_TO_LABELS)\n",
    "categories = label_map_util.convert_label_map_to_categories(label_map, max_num_classes=NUM_CLASSES, use_display_name=True)\n",
    "category_index = label_map_util.create_category_index(categories)\n",
    "\n",
    "# Load the Tensorflow model into memory.\n",
    "detection_graph = tf.Graph()\n",
    "with detection_graph.as_default():\n",
    "    od_graph_def = tf.GraphDef()\n",
    "    with tf.gfile.GFile(PATH_TO_CKPT, 'rb') as fid:\n",
    "        serialized_graph = fid.read()\n",
    "        od_graph_def.ParseFromString(serialized_graph)\n",
    "        tf.import_graph_def(od_graph_def, name='')\n",
    "\n",
    "    sess = tf.Session(graph=detection_graph)"
   ]
  },
  {
   "cell_type": "code",
   "execution_count": 17,
   "metadata": {},
   "outputs": [],
   "source": [
    "# Define input and output tensors (i.e. data) for the object detection classifier\n",
    "\n",
    "# Input tensor is the image\n",
    "image_tensor = detection_graph.get_tensor_by_name('image_tensor:0')\n",
    "\n",
    "# Output tensors are the detection boxes, scores, and classes\n",
    "# Each box represents a part of the image where a particular object was detected\n",
    "detection_boxes = detection_graph.get_tensor_by_name('detection_boxes:0')\n",
    "\n",
    "# Each score represents level of confidence for each of the objects.\n",
    "# The score is shown on the result image, together with the class label.\n",
    "detection_scores = detection_graph.get_tensor_by_name('detection_scores:0')\n",
    "detection_classes = detection_graph.get_tensor_by_name('detection_classes:0')\n",
    "\n",
    "# Number of objects detected\n",
    "num_detections = detection_graph.get_tensor_by_name('num_detections:0')\n",
    "\n",
    "# Initialize webcam feed\n",
    "video = cv2.VideoCapture(0)\n",
    "ret = video.set(3,720)\n",
    "ret = video.set(4,480)\n",
    "\n",
    "def count_person(idx,idx_score):\n",
    "    os.system('mode con: cols=50 lines=9')\n",
    "    idx_detected = idx[0][idx_score[0] > 0.85]\n",
    "    idx_person = idx_detected[idx_detected == 1]\n",
    "    idx_bicycle = idx_detected[idx_detected == 2]\n",
    "    idx_car = idx_detected[idx_detected == 3]\n",
    "    idx_motorcycle = idx_detected[idx_detected == 4]\n",
    "    idx_bus = idx_detected[idx_detected == 6]\n",
    "    idx_truck = idx_detected[idx_detected == 8]\n",
    "    idx_chair = idx_detected[idx_detected == 62]\n",
    "    clear_output(wait=True)\n",
    "    print('======================')\n",
    "    print('Person Count     : ',idx_person.size)\n",
    "    print('Chair Count      : ',idx_chair.size)\t\n",
    "    print('Bicycle Count    : ',idx_bicycle.size)\n",
    "    print('Car Count        : ',idx_car.size)\n",
    "    print('Motorcycle Count : ',idx_motorcycle.size)\n",
    "    print('Bus Count        : ',idx_bus.size)\n",
    "    print('Truck Count      : ',idx_truck.size)"
   ]
  },
  {
   "cell_type": "code",
   "execution_count": 18,
   "metadata": {},
   "outputs": [
    {
     "name": "stdout",
     "output_type": "stream",
     "text": [
      "======================\n",
      "Person Count     :  1\n",
      "Chair Count      :  0\n",
      "Bicycle Count    :  0\n",
      "Car Count        :  0\n",
      "Motorcycle Count :  0\n",
      "Bus Count        :  0\n",
      "Truck Count      :  0\n"
     ]
    }
   ],
   "source": [
    "while(True):\n",
    "\n",
    "    # Acquire frame and expand frame dimensions to have shape: [1, None, None, 3]\n",
    "    # i.e. a single-column array, where each item in the column has the pixel RGB value\n",
    "    ret, frame = video.read()\n",
    "    frame_expanded = np.expand_dims(frame, axis=0)\n",
    "\n",
    "    # Perform the actual detection by running the model with the image as input\n",
    "    (boxes, scores, classes, num) = sess.run(\n",
    "        [detection_boxes, detection_scores, detection_classes, num_detections],\n",
    "        feed_dict={image_tensor: frame_expanded})\n",
    "\t\n",
    "\t# Counting Object Detected\n",
    "    count_person(classes,scores)\n",
    "\t\t\n",
    "    # Draw the results of the detection (aka 'visulaize the results')\n",
    "    vis_util.visualize_boxes_and_labels_on_image_array(\n",
    "        frame,\n",
    "        np.squeeze(boxes),\n",
    "        np.squeeze(classes).astype(np.int32),\n",
    "        np.squeeze(scores),\n",
    "        category_index,\n",
    "        use_normalized_coordinates=True,\n",
    "        line_thickness=8,\n",
    "        min_score_thresh=0.85)\n",
    "\n",
    "    # All the results have been drawn on the frame, so it's time to display it.\n",
    "    cv2.imshow('Object detector', frame)\n",
    "\n",
    "    # Press 'q' to quit\n",
    "    if cv2.waitKey(1) == ord('q'):\n",
    "        os.system('mode con: cols=120 lines=20')\t\t\n",
    "        break\n",
    "\n",
    "# Clean up\n",
    "video.release()\n",
    "cv2.destroyAllWindows()"
   ]
  },
  {
   "cell_type": "code",
   "execution_count": null,
   "metadata": {},
   "outputs": [],
   "source": []
  }
 ],
 "metadata": {
  "kernelspec": {
   "display_name": "Python 3",
   "language": "python",
   "name": "python3"
  },
  "language_info": {
   "codemirror_mode": {
    "name": "ipython",
    "version": 3
   },
   "file_extension": ".py",
   "mimetype": "text/x-python",
   "name": "python",
   "nbconvert_exporter": "python",
   "pygments_lexer": "ipython3",
   "version": "3.6.6"
  }
 },
 "nbformat": 4,
 "nbformat_minor": 2
}
